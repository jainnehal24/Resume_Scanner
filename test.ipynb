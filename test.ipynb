{
 "cells": [
  {
   "cell_type": "code",
   "execution_count": 2,
   "metadata": {},
   "outputs": [],
   "source": [
    "#pip install streamlit langchain pdfminer.six"
   ]
  },
  {
   "cell_type": "code",
   "execution_count": 82,
   "metadata": {},
   "outputs": [],
   "source": [
    "import pandas as pd\n",
    "import numpy as np\n",
    "from langchain.llms import OpenAI\n",
    "from langchain.chains import LLMChain\n",
    "from langchain.prompts import PromptTemplate\n",
    "from pdfminer.high_level import extract_text\n",
    "import os\n",
    "import PyPDF2\n",
    "import shutil\n",
    "from secret_key import api_key"
   ]
  },
  {
   "cell_type": "code",
   "execution_count": 2,
   "metadata": {},
   "outputs": [],
   "source": [
    "llm = OpenAI(api_key=api_key)"
   ]
  },
  {
   "cell_type": "code",
   "execution_count": 4,
   "metadata": {},
   "outputs": [
    {
     "name": "stderr",
     "output_type": "stream",
     "text": [
      "2023-11-26 13:46:49.296 INFO    openai: error_code=insufficient_quota error_message='You exceeded your current quota, please check your plan and billing details.' error_param=None error_type=insufficient_quota message='OpenAI API error received' stream_error=False\n",
      "2023-11-26 13:46:49.298 WARNING langchain.llms.base: Retrying langchain.llms.openai.completion_with_retry.<locals>._completion_with_retry in 4.0 seconds as it raised RateLimitError: You exceeded your current quota, please check your plan and billing details..\n"
     ]
    },
    {
     "name": "stdout",
     "output_type": "stream",
     "text": [
      "\n",
      "\n",
      "The Royal Spice Palace.\n"
     ]
    }
   ],
   "source": [
    "name = llm.predict(\"Suggest a fency name for North Indian hotel.\")\n",
    "print(name)"
   ]
  },
  {
   "cell_type": "code",
   "execution_count": 18,
   "metadata": {},
   "outputs": [],
   "source": [
    "role = 'Data Scientist'"
   ]
  },
  {
   "cell_type": "code",
   "execution_count": 19,
   "metadata": {},
   "outputs": [],
   "source": [
    "# Get the resumes\n",
    "resumes = os.listdir('resumes')"
   ]
  },
  {
   "cell_type": "code",
   "execution_count": 20,
   "metadata": {},
   "outputs": [],
   "source": [
    "# Define a function to extract text from PDF\n",
    "def extract_text_from_pdf(file_path):\n",
    "    return extract_text(file_path)"
   ]
  },
  {
   "cell_type": "code",
   "execution_count": 16,
   "metadata": {},
   "outputs": [],
   "source": [
    "def evaluate_resume(role,resume_text):\n",
    "    prompt_template1 = PromptTemplate(\n",
    "        input_variables =['role','resume_text'],\n",
    "        template = \"Given the role description: {role} and the resume text: {resume_text}, is candidate a good fit for the role?\"\n",
    "    )\n",
    "    #p = prompt_template_name.format(role=role,resume_text=resume_text)\n",
    "    chain1 = LLMChain(llm=llm, prompt=prompt_template1)\n",
    "    response = chain1.run(role=role,resume_text=resume_text)\n",
    "    return response"
   ]
  },
  {
   "cell_type": "code",
   "execution_count": 76,
   "metadata": {},
   "outputs": [],
   "source": [
    "def final_output(result):\n",
    "    prompt_template2 = PromptTemplate(\n",
    "        input_variables =['result'],\n",
    "        template = \"Read the response: {result}, and if it is positive, return 'yes' else 'no' as an output\"\n",
    "    )\n",
    "    #p = prompt_template_name.format(result=result,resume=resume)\n",
    "    chain2 = LLMChain(llm=llm, prompt=prompt_template2)\n",
    "    output = chain2.run(result=result)\n",
    "    return output"
   ]
  },
  {
   "cell_type": "code",
   "execution_count": 77,
   "metadata": {},
   "outputs": [],
   "source": [
    "# Classify the resumes\n",
    "classified_resumes = {}\n",
    "output_table = []\n",
    "for resume in resumes:\n",
    "    resume_text = extract_text_from_pdf(f'resumes/{resume}')\n",
    "    result = evaluate_resume(role,resume_text)\n",
    "    output = final_output(result)\n",
    "    output_table.append((resume,output))\n",
    "    classified_resumes[resume] = result"
   ]
  },
  {
   "cell_type": "code",
   "execution_count": 80,
   "metadata": {},
   "outputs": [
    {
     "data": {
      "text/html": [
       "<div>\n",
       "<style scoped>\n",
       "    .dataframe tbody tr th:only-of-type {\n",
       "        vertical-align: middle;\n",
       "    }\n",
       "\n",
       "    .dataframe tbody tr th {\n",
       "        vertical-align: top;\n",
       "    }\n",
       "\n",
       "    .dataframe thead th {\n",
       "        text-align: right;\n",
       "    }\n",
       "</style>\n",
       "<table border=\"1\" class=\"dataframe\">\n",
       "  <thead>\n",
       "    <tr style=\"text-align: right;\">\n",
       "      <th></th>\n",
       "      <th>Resume</th>\n",
       "      <th>Good fit</th>\n",
       "    </tr>\n",
       "  </thead>\n",
       "  <tbody>\n",
       "    <tr>\n",
       "      <th>0</th>\n",
       "      <td>Nehal Jain_Resume_new.pdf</td>\n",
       "      <td>Yes</td>\n",
       "    </tr>\n",
       "    <tr>\n",
       "      <th>1</th>\n",
       "      <td>Resume_Aru Jain.pdf</td>\n",
       "      <td>No</td>\n",
       "    </tr>\n",
       "  </tbody>\n",
       "</table>\n",
       "</div>"
      ],
      "text/plain": [
       "                      Resume Good fit\n",
       "0  Nehal Jain_Resume_new.pdf      Yes\n",
       "1        Resume_Aru Jain.pdf       No"
      ]
     },
     "execution_count": 80,
     "metadata": {},
     "output_type": "execute_result"
    }
   ],
   "source": [
    "# Convert to DataFrame\n",
    "output_df = pd.DataFrame(output_table, columns=['Resume', 'Good fit'])\n",
    "output_df = output_df.replace('\\n\\nYes','Yes')\n",
    "output_df = output_df.replace('\\n\\nNo','No')\n",
    "output_df"
   ]
  },
  {
   "cell_type": "code",
   "execution_count": 86,
   "metadata": {},
   "outputs": [],
   "source": [
    "for i in range(0,len(output_df)):\n",
    "    if(output_df['Good fit'].iloc[i]=='Yes'):\n",
    "        resume_file = output_df['Resume'].iloc[i]\n",
    "        shutil.copy(f'resumes/{resume_file}', 'shortlisted_resumes')       "
   ]
  },
  {
   "cell_type": "code",
   "execution_count": 15,
   "metadata": {},
   "outputs": [
    {
     "name": "stdout",
     "output_type": "stream",
     "text": [
      "Nehal Jain_Resume_new.pdf: \n",
      "\n",
      "Yes, the candidate is a good fit for the role of Data Scientist. They have 4 years of experience in the field of Data Science & Analytics and have experience in crafting Predictive models, Machine Learning algorithms and NLP based models. They have also worked on developing Customer Dashboards and Driver Scorecards using Power BI. In addition, they have educational qualifications and skills relevant to the role.\n",
      "Resume_Aru Jain.pdf: \n",
      "\n",
      "No, this candidate is not a good fit for the role of Data Scientist. While they have some experience in HR processes such as recruitment, onboarding, and resume screening, they do not have any experience in data science.\n"
     ]
    }
   ],
   "source": [
    "for resume, result in classified_resumes.items():\n",
    "    print(f\"{resume}: {result}\")"
   ]
  },
  {
   "cell_type": "code",
   "execution_count": null,
   "metadata": {},
   "outputs": [],
   "source": [
    "# pip install PyPDF2\n",
    "\n",
    "# # importing all the required modules\n",
    "# import PyPDF2\n",
    "\n",
    "# # creating a pdf reader object\n",
    "# reader = PyPDF2.PdfReader('Nehal Jain_Resume_new.pdf')\n",
    "\n",
    "# # print the number of pages in pdf file\n",
    "# print(len(reader.pages))\n",
    "\n",
    "# # print the text of the first page\n",
    "# print(reader.pages[0].extract_text())"
   ]
  },
  {
   "cell_type": "code",
   "execution_count": 1,
   "metadata": {},
   "outputs": [
    {
     "data": {
      "text/plain": [
       "1"
      ]
     },
     "execution_count": 1,
     "metadata": {},
     "output_type": "execute_result"
    }
   ],
   "source": [
    "import os\n",
    "os.system('rm -rf shortlisted_resumes')"
   ]
  },
  {
   "cell_type": "code",
   "execution_count": 3,
   "metadata": {},
   "outputs": [
    {
     "ename": "PermissionError",
     "evalue": "[WinError 5] Access is denied: 'shortlisted_resumes'",
     "output_type": "error",
     "traceback": [
      "\u001b[1;31m---------------------------------------------------------------------------\u001b[0m",
      "\u001b[1;31mPermissionError\u001b[0m                           Traceback (most recent call last)",
      "\u001b[1;32m~\\AppData\\Local\\Temp\\ipykernel_9612\\4156280766.py\u001b[0m in \u001b[0;36m<module>\u001b[1;34m\u001b[0m\n\u001b[0;32m      4\u001b[0m \u001b[0mfiles\u001b[0m \u001b[1;33m=\u001b[0m \u001b[0mglob\u001b[0m\u001b[1;33m.\u001b[0m\u001b[0mglob\u001b[0m\u001b[1;33m(\u001b[0m\u001b[1;34m'shortlisted_resumes'\u001b[0m\u001b[1;33m)\u001b[0m\u001b[1;33m\u001b[0m\u001b[1;33m\u001b[0m\u001b[0m\n\u001b[0;32m      5\u001b[0m \u001b[1;32mfor\u001b[0m \u001b[0mf\u001b[0m \u001b[1;32min\u001b[0m \u001b[0mfiles\u001b[0m\u001b[1;33m:\u001b[0m\u001b[1;33m\u001b[0m\u001b[1;33m\u001b[0m\u001b[0m\n\u001b[1;32m----> 6\u001b[1;33m     \u001b[0mos\u001b[0m\u001b[1;33m.\u001b[0m\u001b[0mremove\u001b[0m\u001b[1;33m(\u001b[0m\u001b[0mf\u001b[0m\u001b[1;33m)\u001b[0m\u001b[1;33m\u001b[0m\u001b[1;33m\u001b[0m\u001b[0m\n\u001b[0m",
      "\u001b[1;31mPermissionError\u001b[0m: [WinError 5] Access is denied: 'shortlisted_resumes'"
     ]
    }
   ],
   "source": [
    "import os\n",
    "import glob\n",
    "\n",
    "files = glob.glob('shortlisted_resumes')\n",
    "for f in files:\n",
    "    os.remove(f)"
   ]
  },
  {
   "cell_type": "code",
   "execution_count": 5,
   "metadata": {},
   "outputs": [],
   "source": [
    "import os\n",
    "files = glob.glob(os.path.join('shortlisted_resumes', '*'))\n",
    "for file in files:\n",
    "    if os.path.isfile(file):\n",
    "        os.remove(file)"
   ]
  },
  {
   "cell_type": "code",
   "execution_count": 8,
   "metadata": {},
   "outputs": [],
   "source": [
    "from streamlit_extras.add_vertical_space import add_vertical_space"
   ]
  },
  {
   "cell_type": "code",
   "execution_count": 7,
   "metadata": {},
   "outputs": [
    {
     "name": "stdout",
     "output_type": "stream",
     "text": [
      "Collecting streamlit_extras\n",
      "  Downloading streamlit_extras-0.3.5-py3-none-any.whl.metadata (3.7 kB)\n",
      "Requirement already satisfied: entrypoints>=0.4 in c:\\users\\nehaljain5\\anaconda3\\lib\\site-packages (from streamlit_extras) (0.4)\n",
      "Collecting htbuilder>=0.6.2 (from streamlit_extras)\n",
      "  Downloading htbuilder-0.6.2-py3-none-any.whl.metadata (5.9 kB)\n",
      "Collecting markdownlit>=0.0.5 (from streamlit_extras)\n",
      "  Downloading markdownlit-0.0.7-py3-none-any.whl (15 kB)\n",
      "Requirement already satisfied: protobuf!=3.20.2 in c:\\users\\nehaljain5\\anaconda3\\lib\\site-packages (from streamlit_extras) (3.19.6)\n",
      "Collecting st-annotated-text>=3.0.0 (from streamlit_extras)\n",
      "  Downloading st_annotated_text-4.0.1-py3-none-any.whl.metadata (2.2 kB)\n",
      "Requirement already satisfied: streamlit>=1.0.0 in c:\\users\\nehaljain5\\anaconda3\\lib\\site-packages (from streamlit_extras) (1.20.0)\n",
      "Collecting streamlit-camera-input-live>=0.2.0 (from streamlit_extras)\n",
      "  Downloading streamlit_camera_input_live-0.2.0-py3-none-any.whl (6.6 kB)\n",
      "Collecting streamlit-card>=0.0.4 (from streamlit_extras)\n",
      "  Downloading streamlit_card-0.0.61-py3-none-any.whl.metadata (2.8 kB)\n",
      "Collecting streamlit-embedcode>=0.1.2 (from streamlit_extras)\n",
      "  Downloading streamlit_embedcode-0.1.2-py3-none-any.whl (3.5 kB)\n",
      "Collecting streamlit-faker>=0.0.2 (from streamlit_extras)\n",
      "  Downloading streamlit_faker-0.0.3-py3-none-any.whl.metadata (2.0 kB)\n",
      "Collecting streamlit-image-coordinates<0.2.0,>=0.1.1 (from streamlit_extras)\n",
      "  Downloading streamlit_image_coordinates-0.1.6-py3-none-any.whl.metadata (2.0 kB)\n",
      "Collecting streamlit-keyup>=0.1.9 (from streamlit_extras)\n",
      "  Downloading streamlit_keyup-0.2.0-py3-none-any.whl (7.4 kB)\n",
      "Collecting streamlit-toggle-switch>=1.0.2 (from streamlit_extras)\n",
      "  Downloading streamlit_toggle_switch-1.0.2-py3-none-any.whl (635 kB)\n",
      "     ------------------------------------- 635.4/635.4 kB 13.3 MB/s eta 0:00:00\n",
      "Collecting streamlit-vertical-slider>=1.0.2 (from streamlit_extras)\n",
      "  Downloading streamlit_vertical_slider-1.0.2-py3-none-any.whl (624 kB)\n",
      "     ------------------------------------- 624.3/624.3 kB 38.4 MB/s eta 0:00:00\n",
      "Collecting more-itertools (from htbuilder>=0.6.2->streamlit_extras)\n",
      "  Downloading more_itertools-10.1.0-py3-none-any.whl.metadata (33 kB)\n",
      "Requirement already satisfied: markdown in c:\\users\\nehaljain5\\anaconda3\\lib\\site-packages (from markdownlit>=0.0.5->streamlit_extras) (3.3.4)\n",
      "Requirement already satisfied: lxml in c:\\users\\nehaljain5\\anaconda3\\lib\\site-packages (from markdownlit>=0.0.5->streamlit_extras) (4.9.1)\n",
      "Collecting favicon (from markdownlit>=0.0.5->streamlit_extras)\n",
      "  Downloading favicon-0.7.0-py2.py3-none-any.whl (5.9 kB)\n",
      "Collecting pymdown-extensions (from markdownlit>=0.0.5->streamlit_extras)\n",
      "  Downloading pymdown_extensions-10.5-py3-none-any.whl.metadata (3.0 kB)\n",
      "Requirement already satisfied: altair<5,>=3.2.0 in c:\\users\\nehaljain5\\anaconda3\\lib\\site-packages (from streamlit>=1.0.0->streamlit_extras) (4.2.2)\n",
      "Requirement already satisfied: blinker>=1.0.0 in c:\\users\\nehaljain5\\anaconda3\\lib\\site-packages (from streamlit>=1.0.0->streamlit_extras) (1.6.2)\n",
      "Requirement already satisfied: cachetools>=4.0 in c:\\users\\nehaljain5\\anaconda3\\lib\\site-packages (from streamlit>=1.0.0->streamlit_extras) (5.3.0)\n",
      "Requirement already satisfied: click>=7.0 in c:\\users\\nehaljain5\\anaconda3\\lib\\site-packages (from streamlit>=1.0.0->streamlit_extras) (8.1.7)\n",
      "Requirement already satisfied: importlib-metadata>=1.4 in c:\\users\\nehaljain5\\anaconda3\\lib\\site-packages (from streamlit>=1.0.0->streamlit_extras) (4.11.3)\n",
      "Requirement already satisfied: numpy in c:\\users\\nehaljain5\\anaconda3\\lib\\site-packages (from streamlit>=1.0.0->streamlit_extras) (1.21.5)\n",
      "Requirement already satisfied: packaging>=14.1 in c:\\users\\nehaljain5\\anaconda3\\lib\\site-packages (from streamlit>=1.0.0->streamlit_extras) (21.3)\n",
      "Requirement already satisfied: pandas<2,>=0.25 in c:\\users\\nehaljain5\\anaconda3\\lib\\site-packages (from streamlit>=1.0.0->streamlit_extras) (1.4.4)\n",
      "Requirement already satisfied: pillow>=6.2.0 in c:\\users\\nehaljain5\\anaconda3\\lib\\site-packages (from streamlit>=1.0.0->streamlit_extras) (9.2.0)\n",
      "Requirement already satisfied: pyarrow>=4.0 in c:\\users\\nehaljain5\\anaconda3\\lib\\site-packages (from streamlit>=1.0.0->streamlit_extras) (11.0.0)\n",
      "Requirement already satisfied: pympler>=0.9 in c:\\users\\nehaljain5\\anaconda3\\lib\\site-packages (from streamlit>=1.0.0->streamlit_extras) (1.0.1)\n",
      "Requirement already satisfied: python-dateutil in c:\\users\\nehaljain5\\anaconda3\\lib\\site-packages (from streamlit>=1.0.0->streamlit_extras) (2.8.2)\n",
      "Requirement already satisfied: requests>=2.4 in c:\\users\\nehaljain5\\anaconda3\\lib\\site-packages (from streamlit>=1.0.0->streamlit_extras) (2.28.1)\n",
      "Requirement already satisfied: rich>=10.11.0 in c:\\users\\nehaljain5\\anaconda3\\lib\\site-packages (from streamlit>=1.0.0->streamlit_extras) (13.3.2)\n",
      "Requirement already satisfied: semver in c:\\users\\nehaljain5\\anaconda3\\lib\\site-packages (from streamlit>=1.0.0->streamlit_extras) (2.13.0)\n",
      "Requirement already satisfied: toml in c:\\users\\nehaljain5\\anaconda3\\lib\\site-packages (from streamlit>=1.0.0->streamlit_extras) (0.10.2)\n",
      "Requirement already satisfied: typing-extensions>=3.10.0.0 in c:\\users\\nehaljain5\\anaconda3\\lib\\site-packages (from streamlit>=1.0.0->streamlit_extras) (4.3.0)\n",
      "Requirement already satisfied: tzlocal>=1.1 in c:\\users\\nehaljain5\\anaconda3\\lib\\site-packages (from streamlit>=1.0.0->streamlit_extras) (4.3)\n",
      "Requirement already satisfied: validators>=0.2 in c:\\users\\nehaljain5\\anaconda3\\lib\\site-packages (from streamlit>=1.0.0->streamlit_extras) (0.20.0)\n",
      "Requirement already satisfied: gitpython!=3.1.19 in c:\\users\\nehaljain5\\anaconda3\\lib\\site-packages (from streamlit>=1.0.0->streamlit_extras) (3.1.31)\n",
      "Requirement already satisfied: pydeck>=0.1.dev5 in c:\\users\\nehaljain5\\anaconda3\\lib\\site-packages (from streamlit>=1.0.0->streamlit_extras) (0.8.0)\n",
      "Requirement already satisfied: tornado>=6.0.3 in c:\\users\\nehaljain5\\anaconda3\\lib\\site-packages (from streamlit>=1.0.0->streamlit_extras) (6.1)\n",
      "Requirement already satisfied: watchdog in c:\\users\\nehaljain5\\anaconda3\\lib\\site-packages (from streamlit>=1.0.0->streamlit_extras) (2.1.6)\n",
      "Requirement already satisfied: jinja2 in c:\\users\\nehaljain5\\anaconda3\\lib\\site-packages (from streamlit-camera-input-live>=0.2.0->streamlit_extras) (3.1.2)\n",
      "Collecting faker (from streamlit-faker>=0.0.2->streamlit_extras)\n",
      "  Downloading Faker-20.1.0-py3-none-any.whl.metadata (15 kB)\n",
      "Requirement already satisfied: matplotlib in c:\\users\\nehaljain5\\anaconda3\\lib\\site-packages (from streamlit-faker>=0.0.2->streamlit_extras) (3.5.2)\n",
      "Requirement already satisfied: jsonschema>=3.0 in c:\\users\\nehaljain5\\anaconda3\\lib\\site-packages (from altair<5,>=3.2.0->streamlit>=1.0.0->streamlit_extras) (4.16.0)\n",
      "Requirement already satisfied: toolz in c:\\users\\nehaljain5\\anaconda3\\lib\\site-packages (from altair<5,>=3.2.0->streamlit>=1.0.0->streamlit_extras) (0.11.2)\n",
      "Requirement already satisfied: colorama in c:\\users\\nehaljain5\\anaconda3\\lib\\site-packages (from click>=7.0->streamlit>=1.0.0->streamlit_extras) (0.4.6)\n",
      "Requirement already satisfied: gitdb<5,>=4.0.1 in c:\\users\\nehaljain5\\anaconda3\\lib\\site-packages (from gitpython!=3.1.19->streamlit>=1.0.0->streamlit_extras) (4.0.10)\n",
      "Requirement already satisfied: zipp>=0.5 in c:\\users\\nehaljain5\\anaconda3\\lib\\site-packages (from importlib-metadata>=1.4->streamlit>=1.0.0->streamlit_extras) (3.8.0)\n",
      "Requirement already satisfied: pyparsing!=3.0.5,>=2.0.2 in c:\\users\\nehaljain5\\anaconda3\\lib\\site-packages (from packaging>=14.1->streamlit>=1.0.0->streamlit_extras) (3.0.9)\n",
      "Requirement already satisfied: pytz>=2020.1 in c:\\users\\nehaljain5\\anaconda3\\lib\\site-packages (from pandas<2,>=0.25->streamlit>=1.0.0->streamlit_extras) (2022.1)\n",
      "Requirement already satisfied: MarkupSafe>=2.0 in c:\\users\\nehaljain5\\anaconda3\\lib\\site-packages (from jinja2->streamlit-camera-input-live>=0.2.0->streamlit_extras) (2.1.3)\n",
      "Requirement already satisfied: six>=1.5 in c:\\users\\nehaljain5\\anaconda3\\lib\\site-packages (from python-dateutil->streamlit>=1.0.0->streamlit_extras) (1.16.0)\n",
      "Requirement already satisfied: charset-normalizer<3,>=2 in c:\\users\\nehaljain5\\anaconda3\\lib\\site-packages (from requests>=2.4->streamlit>=1.0.0->streamlit_extras) (2.0.4)\n",
      "Requirement already satisfied: idna<4,>=2.5 in c:\\users\\nehaljain5\\anaconda3\\lib\\site-packages (from requests>=2.4->streamlit>=1.0.0->streamlit_extras) (3.3)\n",
      "Requirement already satisfied: urllib3<1.27,>=1.21.1 in c:\\users\\nehaljain5\\anaconda3\\lib\\site-packages (from requests>=2.4->streamlit>=1.0.0->streamlit_extras) (1.26.11)\n",
      "Requirement already satisfied: certifi>=2017.4.17 in c:\\users\\nehaljain5\\anaconda3\\lib\\site-packages (from requests>=2.4->streamlit>=1.0.0->streamlit_extras) (2022.9.14)\n",
      "Requirement already satisfied: markdown-it-py<3.0.0,>=2.2.0 in c:\\users\\nehaljain5\\anaconda3\\lib\\site-packages (from rich>=10.11.0->streamlit>=1.0.0->streamlit_extras) (2.2.0)\n",
      "Requirement already satisfied: pygments<3.0.0,>=2.13.0 in c:\\users\\nehaljain5\\anaconda3\\lib\\site-packages (from rich>=10.11.0->streamlit>=1.0.0->streamlit_extras) (2.14.0)\n",
      "Requirement already satisfied: pytz-deprecation-shim in c:\\users\\nehaljain5\\anaconda3\\lib\\site-packages (from tzlocal>=1.1->streamlit>=1.0.0->streamlit_extras) (0.1.0.post0)\n",
      "Requirement already satisfied: tzdata in c:\\users\\nehaljain5\\anaconda3\\lib\\site-packages (from tzlocal>=1.1->streamlit>=1.0.0->streamlit_extras) (2022.7)\n",
      "Requirement already satisfied: decorator>=3.4.0 in c:\\users\\nehaljain5\\anaconda3\\lib\\site-packages (from validators>=0.2->streamlit>=1.0.0->streamlit_extras) (5.1.1)\n",
      "Requirement already satisfied: beautifulsoup4>=4.7.0 in c:\\users\\nehaljain5\\anaconda3\\lib\\site-packages (from favicon->markdownlit>=0.0.5->streamlit_extras) (4.11.1)\n",
      "Requirement already satisfied: cycler>=0.10 in c:\\users\\nehaljain5\\anaconda3\\lib\\site-packages (from matplotlib->streamlit-faker>=0.0.2->streamlit_extras) (0.11.0)\n",
      "Requirement already satisfied: fonttools>=4.22.0 in c:\\users\\nehaljain5\\anaconda3\\lib\\site-packages (from matplotlib->streamlit-faker>=0.0.2->streamlit_extras) (4.25.0)\n",
      "Requirement already satisfied: kiwisolver>=1.0.1 in c:\\users\\nehaljain5\\anaconda3\\lib\\site-packages (from matplotlib->streamlit-faker>=0.0.2->streamlit_extras) (1.4.2)\n",
      "Collecting markdown (from markdownlit>=0.0.5->streamlit_extras)\n",
      "  Downloading Markdown-3.5.1-py3-none-any.whl.metadata (7.1 kB)\n",
      "Requirement already satisfied: pyyaml in c:\\users\\nehaljain5\\anaconda3\\lib\\site-packages (from pymdown-extensions->markdownlit>=0.0.5->streamlit_extras) (6.0)\n",
      "Requirement already satisfied: soupsieve>1.2 in c:\\users\\nehaljain5\\anaconda3\\lib\\site-packages (from beautifulsoup4>=4.7.0->favicon->markdownlit>=0.0.5->streamlit_extras) (2.3.1)\n",
      "Requirement already satisfied: smmap<6,>=3.0.1 in c:\\users\\nehaljain5\\anaconda3\\lib\\site-packages (from gitdb<5,>=4.0.1->gitpython!=3.1.19->streamlit>=1.0.0->streamlit_extras) (5.0.0)\n",
      "Requirement already satisfied: attrs>=17.4.0 in c:\\users\\nehaljain5\\anaconda3\\lib\\site-packages (from jsonschema>=3.0->altair<5,>=3.2.0->streamlit>=1.0.0->streamlit_extras) (21.4.0)\n",
      "Requirement already satisfied: pyrsistent!=0.17.0,!=0.17.1,!=0.17.2,>=0.14.0 in c:\\users\\nehaljain5\\anaconda3\\lib\\site-packages (from jsonschema>=3.0->altair<5,>=3.2.0->streamlit>=1.0.0->streamlit_extras) (0.18.0)\n",
      "Requirement already satisfied: mdurl~=0.1 in c:\\users\\nehaljain5\\anaconda3\\lib\\site-packages (from markdown-it-py<3.0.0,>=2.2.0->rich>=10.11.0->streamlit>=1.0.0->streamlit_extras) (0.1.2)\n",
      "Downloading streamlit_extras-0.3.5-py3-none-any.whl (66 kB)\n",
      "   ---------------------------------------- 66.0/66.0 kB ? eta 0:00:00\n",
      "Downloading htbuilder-0.6.2-py3-none-any.whl (12 kB)\n",
      "Downloading st_annotated_text-4.0.1-py3-none-any.whl (9.0 kB)\n",
      "Downloading streamlit_card-0.0.61-py3-none-any.whl (680 kB)\n",
      "   --------------------------------------- 680.5/680.5 kB 41.9 MB/s eta 0:00:00\n",
      "Downloading streamlit_faker-0.0.3-py3-none-any.whl (14 kB)\n",
      "Downloading streamlit_image_coordinates-0.1.6-py3-none-any.whl (6.3 kB)\n",
      "Downloading Faker-20.1.0-py3-none-any.whl (1.7 MB)\n",
      "   ---------------------------------------- 1.7/1.7 MB 5.3 MB/s eta 0:00:00\n",
      "Downloading more_itertools-10.1.0-py3-none-any.whl (55 kB)\n",
      "   ---------------------------------------- 55.8/55.8 kB ? eta 0:00:00\n",
      "Downloading pymdown_extensions-10.5-py3-none-any.whl (241 kB)\n",
      "   --------------------------------------- 241.1/241.1 kB 14.4 MB/s eta 0:00:00\n",
      "Downloading Markdown-3.5.1-py3-none-any.whl (102 kB)\n",
      "   ---------------------------------------- 102.2/102.2 kB 6.1 MB/s eta 0:00:00\n",
      "Installing collected packages: more-itertools, markdown, htbuilder, favicon, faker, st-annotated-text, pymdown-extensions, streamlit-vertical-slider, streamlit-toggle-switch, streamlit-keyup, streamlit-image-coordinates, streamlit-embedcode, streamlit-card, streamlit-camera-input-live, streamlit-faker, markdownlit, streamlit_extras\n",
      "  Attempting uninstall: markdown\n",
      "    Found existing installation: Markdown 3.3.4\n",
      "    Uninstalling Markdown-3.3.4:\n",
      "      Successfully uninstalled Markdown-3.3.4\n",
      "Successfully installed faker-20.1.0 favicon-0.7.0 htbuilder-0.6.2 markdown-3.5.1 markdownlit-0.0.7 more-itertools-10.1.0 pymdown-extensions-10.5 st-annotated-text-4.0.1 streamlit-camera-input-live-0.2.0 streamlit-card-0.0.61 streamlit-embedcode-0.1.2 streamlit-faker-0.0.3 streamlit-image-coordinates-0.1.6 streamlit-keyup-0.2.0 streamlit-toggle-switch-1.0.2 streamlit-vertical-slider-1.0.2 streamlit_extras-0.3.5\n",
      "Note: you may need to restart the kernel to use updated packages.\n"
     ]
    }
   ],
   "source": [
    "pip install streamlit_extras"
   ]
  },
  {
   "cell_type": "code",
   "execution_count": null,
   "metadata": {},
   "outputs": [],
   "source": []
  }
 ],
 "metadata": {
  "kernelspec": {
   "display_name": "base",
   "language": "python",
   "name": "python3"
  },
  "language_info": {
   "codemirror_mode": {
    "name": "ipython",
    "version": 3
   },
   "file_extension": ".py",
   "mimetype": "text/x-python",
   "name": "python",
   "nbconvert_exporter": "python",
   "pygments_lexer": "ipython3",
   "version": "3.9.13"
  }
 },
 "nbformat": 4,
 "nbformat_minor": 2
}
